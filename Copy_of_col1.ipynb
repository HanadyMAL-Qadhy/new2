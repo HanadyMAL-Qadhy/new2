{
  "nbformat": 4,
  "nbformat_minor": 0,
  "metadata": {
    "colab": {
      "provenance": [],
      "authorship_tag": "ABX9TyMeJkF/C61YamxMzpl3qdus"
    },
    "kernelspec": {
      "name": "python3",
      "display_name": "Python 3"
    },
    "language_info": {
      "name": "python"
    },
    "accelerator": "TPU"
  },
  "cells": [
    {
      "cell_type": "code",
      "execution_count": null,
      "metadata": {
        "colab": {
          "base_uri": "https://localhost:8080/"
        },
        "id": "rDCvpjLfURfS",
        "outputId": "4a74821f-ff0e-426e-8592-289bc8d7960e"
      },
      "outputs": [
        {
          "output_type": "stream",
          "name": "stdout",
          "text": [
            "contentious\n"
          ]
        }
      ],
      "source": [
        "print(\"contentious\")"
      ]
    }
  ]
}